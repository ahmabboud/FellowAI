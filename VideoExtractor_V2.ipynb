{
  "nbformat": 4,
  "nbformat_minor": 0,
  "metadata": {
    "colab": {
      "name": "VideoExtractor_V2.ipynb",
      "provenance": [],
      "collapsed_sections": [],
      "mount_file_id": "1Z_ta0kCJdzSJpB95hl43e5R8NkxXhNr0",
      "authorship_tag": "ABX9TyPDwBoQHullaTSP0C9wujor",
      "include_colab_link": true
    },
    "kernelspec": {
      "name": "python3",
      "display_name": "Python 3"
    }
  },
  "cells": [
    {
      "cell_type": "markdown",
      "metadata": {
        "id": "view-in-github",
        "colab_type": "text"
      },
      "source": [
        "<a href=\"https://colab.research.google.com/github/ahmabboud/FellowAI/blob/main/VideoExtractor_V2.ipynb\" target=\"_parent\"><img src=\"https://colab.research.google.com/assets/colab-badge.svg\" alt=\"Open In Colab\"/></a>"
      ]
    },
    {
      "cell_type": "markdown",
      "metadata": {
        "id": "Tdyt2HjbA7RW"
      },
      "source": [
        "\n",
        "\n",
        "# Use opencv to work on video stream from Youtube\n"
      ]
    },
    {
      "cell_type": "markdown",
      "metadata": {
        "id": "WlEdI8mriKr5"
      },
      "source": [
        "This will Etract videos from Youtube to build Database"
      ]
    },
    {
      "cell_type": "code",
      "metadata": {
        "id": "7qCxQ1VpDHKU",
        "colab": {
          "base_uri": "https://localhost:8080/",
          "height": 274
        },
        "outputId": "83c264d2-fe79-4044-9140-49e4b12f5e6e"
      },
      "source": [
        "!apt-get install python3-OpenCV\n",
        "!pip install pafy\n",
        "!pip install youtube_dl"
      ],
      "execution_count": null,
      "outputs": [
        {
          "output_type": "stream",
          "text": [
            "Reading package lists... Done\n",
            "Building dependency tree       \n",
            "Reading state information... Done\n",
            "E: Unable to locate package python3-OpenCV\n",
            "Collecting pafy\n",
            "  Downloading https://files.pythonhosted.org/packages/74/69/829919eeadff695338f98fa12bb99e45490761a2010c8d688d88b6df194a/pafy-0.5.5-py2.py3-none-any.whl\n",
            "Installing collected packages: pafy\n",
            "Successfully installed pafy-0.5.5\n",
            "Collecting youtube_dl\n",
            "\u001b[?25l  Downloading https://files.pythonhosted.org/packages/a7/d2/6934d56f95a2aaa8b3aad67dea48d1864b975298e1cab96cf816b6771746/youtube_dl-2020.9.6-py2.py3-none-any.whl (1.8MB)\n",
            "\u001b[K     |████████████████████████████████| 1.8MB 3.2MB/s \n",
            "\u001b[?25hInstalling collected packages: youtube-dl\n",
            "Successfully installed youtube-dl-2020.9.6\n"
          ],
          "name": "stdout"
        }
      ]
    },
    {
      "cell_type": "code",
      "metadata": {
        "id": "ox_199V6BdFF"
      },
      "source": [
        "import cv2\n",
        "import matplotlib\n",
        "import numpy as np\n",
        "import pafy\n",
        "from google.colab.patches import cv2_imshow\n",
        "import time\n",
        "import uuid\n",
        "import matplotlib.pyplot as plt\n",
        "# Python program to show time by process_time()  \n",
        "from time import process_time"
      ],
      "execution_count": null,
      "outputs": []
    },
    {
      "cell_type": "code",
      "metadata": {
        "id": "wXxiXdoyBixF"
      },
      "source": [
        "\n",
        "#Check if 2 images are equals\n",
        "def isDuplicat(original,Unique):\n",
        "  for t in Unique:\n",
        "      if original.shape == t.shape:\n",
        "        difference = cv2.subtract(original, t)\n",
        "        b, g, r = cv2.split(difference)\n",
        "        if cv2.countNonZero(b) == 0 and cv2.countNonZero(g) == 0 and cv2.countNonZero(r) == 0:\n",
        "          print(\"find Duplicate\")\n",
        "          return True\n",
        "        else:\n",
        "          return False\n",
        "      else:\n",
        "        return False\n"
      ],
      "execution_count": null,
      "outputs": []
    },
    {
      "cell_type": "code",
      "metadata": {
        "id": "XbNhYNrbxfVA"
      },
      "source": [
        "import multiprocessing\n",
        "from multiprocessing.pool import ThreadPool as Pool\n",
        "# from multiprocessing import Pool"
      ],
      "execution_count": null,
      "outputs": []
    },
    {
      "cell_type": "code",
      "metadata": {
        "id": "EUOq3MV-2m42",
        "colab": {
          "base_uri": "https://localhost:8080/",
          "height": 35
        },
        "outputId": "6ca98bd5-40c1-4e30-c24a-233ebec4dea9"
      },
      "source": [
        "from shapely.geometry import Polygon\n",
        "def overlap2(rect1,rect2):\n",
        "    comparison = rect1 == rect2\n",
        "    equal_arrays = comparison.all()\n",
        "    if equal_arrays:\n",
        "      return True\n",
        "    else:\n",
        "      p1 = Polygon([(rect1[0],rect1[1]), (rect1[0]-rect1[2],rect1[1]),(rect1[0]-rect1[2],rect1[1]-rect1[3]),(rect1[0],rect1[1]-rect1[3])])\n",
        "      p2 = Polygon([(rect2[0],rect2[1]), (rect2[0]-rect2[2],rect2[1]),(rect2[0]-rect2[2],rect2[1]-rect2[3]),(rect2[0],rect2[1]-rect2[3])])\n",
        "      #x,y = p1.exterior.xy\n",
        "      #plt.plot(x,y)\n",
        "      #x,y = p2.exterior.xy\n",
        "      #plt.plot(x,y)\n",
        "      #print(p1.intersects(p2)) \n",
        "      return (p1.intersects(p2))\n",
        "#[855 512  50  50] [616  46  55  55]\n",
        "overlap2(np.array([855, 512,  50,  50,]),np.array([616,  46,  55,  55]))"
      ],
      "execution_count": null,
      "outputs": [
        {
          "output_type": "execute_result",
          "data": {
            "text/plain": [
              "False"
            ]
          },
          "metadata": {
            "tags": []
          },
          "execution_count": 5
        }
      ]
    },
    {
      "cell_type": "code",
      "metadata": {
        "id": "tzkhbYpOxpbO"
      },
      "source": [
        "def worker(item,capture,path,maxi,FrameSkipR,f):\n",
        "    global Uid\n",
        "    try:\n",
        "        #api.my_operation(item)\n",
        "        created = multiprocessing.Process()\n",
        "        current = multiprocessing.current_process()\n",
        "        #print ('running:', current.name, current._identity)\n",
        "        #print ('created:', created.name, created._identity)\n",
        "        (x,y,w,h)=item\n",
        "        \n",
        "        FW2ImgRt= int(((1-0.08))*w) # considered 10% face width to image width\n",
        "        FH2ImgRt=int(((1-0.3))*h) # considered 30% face height to image height\n",
        "        i=0\n",
        "        Nbrf=0\n",
        "        while Nbrf<=maxi and capture.isOpened:\n",
        "          ret, img = capture.read()\n",
        "          \n",
        "          if i%(FrameSkipR)==0:\n",
        "            body=img[y-int((FH2ImgRt)*0.15):y+(h+int((FH2ImgRt)*0.3)), (x-int(FW2ImgRt/2)):x+(w+int(FW2ImgRt/2))]\n",
        "            \n",
        "            cv2.imwrite(path+'V'+Uid+'_'+str(f)+'_'+str(i)+'.jpg',body)\n",
        "            Nbrf+=1\n",
        "\n",
        "          i+=1\n",
        "    except Exception as e:\n",
        "      print(e)\n"
      ],
      "execution_count": null,
      "outputs": []
    },
    {
      "cell_type": "code",
      "metadata": {
        "id": "QBO1frtUwRo9",
        "colab": {
          "base_uri": "https://localhost:8080/",
          "height": 217
        },
        "outputId": "ae1ee541-5870-4e35-dd07-7b24d82e24be"
      },
      "source": [
        " # Start the stopwatch / counter  \n",
        "t1_start = process_time() \n",
        "\n",
        "file1 = open('/content/drive/My Drive/FellowAI/Dataset_Emo/ZoomLinks.txt', 'r') # file containing YouTube zoom links\n",
        "Lines = file1.readlines() \n",
        "  \n",
        "# Strips the newline character \n",
        "for line in Lines:     \n",
        "    \n",
        "    face_cascade = cv2.CascadeClassifier('/content/drive/My Drive/FellowAI/temp/haarcascade_frontalface_default.xml') # Haar Cascade File\n",
        "    url=line.strip()\n",
        "    print(url)\n",
        "    Uid=url[-11:]       # Ue VideoID as UID\n",
        "    print(Uid)\n",
        "    \n",
        "    video = pafy.new(url)\n",
        "    best = video.getbest()    # get best resolution\n",
        "    capture = cv2.VideoCapture()\n",
        "    capture.open(best.url)\n",
        "    fps = int(capture.get(cv2.CAP_PROP_FPS)) # Frame Per sec\n",
        "    print(\"fps,\",fps)\n",
        "\n",
        "\n",
        "    ''' face detection in Video\n",
        "    '''\n",
        "    NbrFaces=10         # Minimum number of faces\n",
        "    #path='/content/drive/My Drive/FellowAI/dataset/Ahmad_Draft/'\n",
        "    path='/content/drive/My Drive/FellowAI/Dataset_Emo/Draft3/' # Path to the Destination DS file \n",
        "    Nbrframs=10000        # Maximum number of frames to search\n",
        "    FrameSkip=2     #seconds skips capture frame each # sec\n",
        "    StartFrame=fps*10   # start capture after 10 sec\n",
        "    capture.set(cv2.CAP_PROP_POS_FRAMES, StartFrame)\n",
        "    i=0\n",
        "    while capture.isOpened and i<=Nbrframs:\n",
        "\n",
        "      ret, img = capture.read()\n",
        "      #print('frame',i)\n",
        "      if i%(fps)==0:      # frame each sec\n",
        "          gray = cv2.cvtColor(img, cv2.COLOR_BGR2GRAY)\n",
        "          faces = face_cascade.detectMultiScale(gray, 1.1, 5,minSize = (10, 10)) \n",
        "          #print('Faces:',len(faces))\n",
        "         # delete overlaped faces and keep separated\n",
        "          SepFaces=[]\n",
        "          c=0\n",
        "          for face in faces:\n",
        "            if len(SepFaces)==0:\n",
        "              SepFaces.append(np.array(face))\n",
        "            else:\n",
        "              c=1\n",
        "              for s,Sep in enumerate(SepFaces):\n",
        "                #print(s,face,Sep)\n",
        "                if not overlap2(face,Sep):\n",
        "                  c+=1\n",
        "                else:\n",
        "                  #print(\"Face overlap\",face,Sep)\n",
        "                  break\n",
        "              if c>= len(SepFaces):     \n",
        "                SepFaces.append(np.array(face))\n",
        "                #print('face appended',len(SepFaces))\n",
        "\n",
        "          print('face appended',len(SepFaces))  \n",
        "          if len(SepFaces)>=4:      # run just if number of detected faces is >= 4\n",
        "            pool = Pool(len(SepFaces))\n",
        "            \n",
        "            for f,face in enumerate(SepFaces):\n",
        "                # foreach face detected apply a thread fro the pool of threads\n",
        "                pool.apply(worker, args=(face,capture,path,NbrFaces,fps*FrameSkip,f))\n",
        "            pool.close()\n",
        "            pool.join()\n",
        "            break\n",
        "      i+=1\n",
        "    capture.release()\n",
        "    cv2.destroyAllWindows()\n",
        "file1.close()\n",
        "# Stop the stopwatch / counter \n",
        "t1_stop = process_time() \n",
        "print(\"Elapsed time:\", t1_stop, t1_start)   \n",
        "print(\"Elapsed time during the whole program in seconds:\", t1_stop - t1_start)"
      ],
      "execution_count": null,
      "outputs": [
        {
          "output_type": "stream",
          "text": [
            "https://www.youtube.com/watch?v=lVtEB_QnZk0\n",
            "lVtEB_QnZk0\n",
            "fps, 25\n",
            "face appended 2\n",
            "face appended 2\n",
            "face appended 7\n",
            "face appended 9\n",
            "face appended 11\n",
            "face appended 12\n",
            "Elapsed time: 1352.031043619 1288.69943249\n",
            "Elapsed time during the whole program in seconds: 63.331611129000066\n"
          ],
          "name": "stdout"
        }
      ]
    }
  ]
}